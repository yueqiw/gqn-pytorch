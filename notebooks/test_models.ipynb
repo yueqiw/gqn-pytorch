{
 "cells": [
  {
   "cell_type": "code",
   "execution_count": 73,
   "metadata": {},
   "outputs": [
    {
     "name": "stdout",
     "output_type": "stream",
     "text": [
      "The autoreload extension is already loaded. To reload it, use:\n",
      "  %reload_ext autoreload\n"
     ]
    }
   ],
   "source": [
    "import sys, os\n",
    "import random\n",
    "import math\n",
    "import argparse\n",
    "from tqdm import tqdm\n",
    "from datetime import datetime \n",
    "\n",
    "import numpy as np\n",
    "import pandas as pd\n",
    "import matplotlib.pyplot as plt\n",
    "\n",
    "import torch\n",
    "import torch.nn as nn\n",
    "from torch.distributions import Normal\n",
    "from torch.utils.data import DataLoader\n",
    "from torchvision.utils import save_image\n",
    "\n",
    "sys.path.append(\"../gqn-wohlert\")\n",
    "sys.path.append(\"../src\")\n",
    "from gqn import GenerativeQueryNetwork\n",
    "from datasets import Face3D, transform_viewpoint\n",
    "from utils import * \n",
    "import gc\n",
    "\n",
    "# cuda = torch.cuda.is_available()\n",
    "cuda = False\n",
    "device = torch.device(\"cuda:0\" if cuda else \"cpu\")\n",
    "device\n",
    "\n",
    "%load_ext autoreload\n",
    "%autoreload 2"
   ]
  },
  {
   "cell_type": "code",
   "execution_count": 67,
   "metadata": {},
   "outputs": [],
   "source": [
    "test_data_dir = \"/media/yueqi/Data1/data_ml/gqn_dataset/face3d_20181111-032039/test/\"\n",
    "test_dataset_random = Face3D(root_dir=test_data_dir, target_transform=transform_viewpoint, n_imgs='all')\n",
    "test_dataset_axis = Face3D(root_dir=test_data_dir, target_transform=transform_viewpoint, n_imgs='all', sample_type='angle_axis')\n",
    "\n",
    "train_data_dir = \"/media/yueqi/Data1/data_ml/gqn_dataset/face3d_20181111-032039/train/\"\n",
    "train_dataset_random = Face3D(root_dir=train_data_dir, target_transform=transform_viewpoint, n_imgs='all')\n",
    "train_dataset_axis = Face3D(root_dir=train_data_dir, target_transform=transform_viewpoint, n_imgs='all', sample_type='angle_axis')"
   ]
  },
  {
   "cell_type": "code",
   "execution_count": 3,
   "metadata": {},
   "outputs": [],
   "source": [
    "# Pixel variance\n",
    "sigma_f, sigma_i = 0.7, 2.0\n",
    "# Learning rate\n",
    "mu_f, mu_i = 5*10**(-5), 5*10**(-4)\n",
    "mu, sigma = mu_f, sigma_f"
   ]
  },
  {
   "cell_type": "code",
   "execution_count": null,
   "metadata": {},
   "outputs": [],
   "source": []
  },
  {
   "cell_type": "code",
   "execution_count": 59,
   "metadata": {},
   "outputs": [
    {
     "name": "stdout",
     "output_type": "stream",
     "text": [
      "model-56000\n"
     ]
    }
   ],
   "source": [
    "model_checkpoint = \"../output/gqn-face3d-20181111-063040/checkpoints/model-56000.pt\"\n",
    "checkpoint_name = os.path.basename(model_checkpoint).split(\".\")[-2]\n",
    "print(checkpoint_name)"
   ]
  },
  {
   "cell_type": "code",
   "execution_count": 60,
   "metadata": {},
   "outputs": [],
   "source": [
    "model = torch.load(model_checkpoint, map_location=device)"
   ]
  },
  {
   "cell_type": "code",
   "execution_count": 38,
   "metadata": {},
   "outputs": [
    {
     "data": {
      "text/plain": [
       "'../output/gqn-face3d-20181111-063040'"
      ]
     },
     "execution_count": 38,
     "metadata": {},
     "output_type": "execute_result"
    }
   ],
   "source": [
    "log_dir = os.path.dirname(os.path.dirname(model_checkpoint))\n",
    "log_dir"
   ]
  },
  {
   "cell_type": "code",
   "execution_count": 61,
   "metadata": {},
   "outputs": [
    {
     "name": "stdout",
     "output_type": "stream",
     "text": [
      "../output/gqn-face3d-20181111-063040/predictions_model-56000\n"
     ]
    }
   ],
   "source": [
    "result_dir = os.path.join(log_dir, 'predictions_' + checkpoint_name)\n",
    "if not os.path.exists(result_dir):\n",
    "    os.mkdir(result_dir)\n",
    "print(result_dir)"
   ]
  },
  {
   "cell_type": "code",
   "execution_count": null,
   "metadata": {},
   "outputs": [],
   "source": []
  },
  {
   "cell_type": "code",
   "execution_count": 40,
   "metadata": {},
   "outputs": [
    {
     "name": "stderr",
     "output_type": "stream",
     "text": [
      "/home/yueqi/anaconda/envs/py36/lib/python3.6/site-packages/torch/nn/functional.py:1006: UserWarning: nn.functional.sigmoid is deprecated. Use torch.sigmoid instead.\n",
      "  warnings.warn(\"nn.functional.sigmoid is deprecated. Use torch.sigmoid instead.\")\n",
      "/home/yueqi/anaconda/envs/py36/lib/python3.6/site-packages/torch/nn/functional.py:995: UserWarning: nn.functional.tanh is deprecated. Use torch.tanh instead.\n",
      "  warnings.warn(\"nn.functional.tanh is deprecated. Use torch.tanh instead.\")\n"
     ]
    }
   ],
   "source": [
    "single_context_rendering(model, test_dataset_axis, 2, (0, 20,0), sigma, figdir=result_dir)"
   ]
  },
  {
   "cell_type": "code",
   "execution_count": 41,
   "metadata": {},
   "outputs": [
    {
     "name": "stderr",
     "output_type": "stream",
     "text": [
      "/home/yueqi/anaconda/envs/py36/lib/python3.6/site-packages/torch/nn/functional.py:1006: UserWarning: nn.functional.sigmoid is deprecated. Use torch.sigmoid instead.\n",
      "  warnings.warn(\"nn.functional.sigmoid is deprecated. Use torch.sigmoid instead.\")\n",
      "/home/yueqi/anaconda/envs/py36/lib/python3.6/site-packages/torch/nn/functional.py:995: UserWarning: nn.functional.tanh is deprecated. Use torch.tanh instead.\n",
      "  warnings.warn(\"nn.functional.tanh is deprecated. Use torch.tanh instead.\")\n"
     ]
    }
   ],
   "source": [
    "multi_context_rendering(model, test_dataset_random, 2, 5, sigma, figdir=result_dir)"
   ]
  },
  {
   "cell_type": "code",
   "execution_count": 23,
   "metadata": {},
   "outputs": [
    {
     "data": {
      "text/plain": [
       "torch.Size([3, 64, 64])"
      ]
     },
     "execution_count": 23,
     "metadata": {},
     "output_type": "execute_result"
    }
   ],
   "source": [
    "test_dataset_axis[2][0][2].shape"
   ]
  },
  {
   "cell_type": "code",
   "execution_count": 42,
   "metadata": {},
   "outputs": [],
   "source": [
    "save_image(test_dataset_random[2][0][:5], os.path.join(result_dir, 'rand_ctxt_5.jpg'))"
   ]
  },
  {
   "cell_type": "code",
   "execution_count": 43,
   "metadata": {},
   "outputs": [],
   "source": [
    "save_image(test_dataset_random[2][0][:2], os.path.join(result_dir, 'rand_ctxt_2.jpg'))"
   ]
  },
  {
   "cell_type": "code",
   "execution_count": 46,
   "metadata": {},
   "outputs": [],
   "source": [
    "save_image(train_dataset_random[2][0][:8], os.path.join(result_dir, 'train_rand_ctxt_8.jpg'), nrow=4)"
   ]
  },
  {
   "cell_type": "code",
   "execution_count": 53,
   "metadata": {},
   "outputs": [],
   "source": [
    "save_image(train_dataset_random[2][0][14], os.path.join(result_dir, 'train_rand_ctxt_target.jpg'))"
   ]
  },
  {
   "cell_type": "code",
   "execution_count": 45,
   "metadata": {},
   "outputs": [],
   "source": [
    "target_v = (0,20,0)\n",
    "fixed_context = find_viewpoint_input(test_dataset_axis[2][0], test_dataset_axis[2][1], target_v)[0]\n",
    "save_image(fixed_context, os.path.join(result_dir, 'fixed_ctxt_{}_{}_{}.jpg'.format(*target_v)))"
   ]
  },
  {
   "cell_type": "code",
   "execution_count": 63,
   "metadata": {},
   "outputs": [
    {
     "name": "stdout",
     "output_type": "stream",
     "text": [
      "../output/gqn-face3d-20181111-063040/predictions_model-56000\n"
     ]
    }
   ],
   "source": [
    "result_dir = os.path.join(log_dir, 'predictions_' + checkpoint_name)\n",
    "if not os.path.exists(result_dir):\n",
    "    os.mkdir(result_dir)\n",
    "print(result_dir)"
   ]
  },
  {
   "cell_type": "code",
   "execution_count": 64,
   "metadata": {},
   "outputs": [
    {
     "name": "stderr",
     "output_type": "stream",
     "text": [
      "/home/yueqi/anaconda/envs/py36/lib/python3.6/site-packages/torch/nn/functional.py:1006: UserWarning: nn.functional.sigmoid is deprecated. Use torch.sigmoid instead.\n",
      "  warnings.warn(\"nn.functional.sigmoid is deprecated. Use torch.sigmoid instead.\")\n",
      "/home/yueqi/anaconda/envs/py36/lib/python3.6/site-packages/torch/nn/functional.py:995: UserWarning: nn.functional.tanh is deprecated. Use torch.tanh instead.\n",
      "  warnings.warn(\"nn.functional.tanh is deprecated. Use torch.tanh instead.\")\n"
     ]
    }
   ],
   "source": [
    "multi_context_rendering(model, test_dataset_random, 5, 8, sigma, figdir=result_dir)"
   ]
  },
  {
   "cell_type": "code",
   "execution_count": 68,
   "metadata": {},
   "outputs": [],
   "source": [
    "save_image(test_dataset_random[5][0][:8], os.path.join(result_dir, 'test_rand_ctxt_8.jpg'), nrow=4)"
   ]
  },
  {
   "cell_type": "code",
   "execution_count": 70,
   "metadata": {},
   "outputs": [],
   "source": [
    "save_image(test_dataset_axis[5][0], os.path.join(result_dir, 'test_axis_ctxt_target.jpg'))"
   ]
  },
  {
   "cell_type": "code",
   "execution_count": null,
   "metadata": {},
   "outputs": [],
   "source": [
    "model(x, v)"
   ]
  },
  {
   "cell_type": "code",
   "execution_count": 72,
   "metadata": {},
   "outputs": [
    {
     "data": {
      "text/plain": [
       "tensor([[-10.,   0.,   0.],\n",
       "        [-20.,   0.,   0.],\n",
       "        [-30.,   0.,   0.],\n",
       "        [-40.,   0.,   0.],\n",
       "        [-50.,   0.,   0.],\n",
       "        [  0., -10.,   0.],\n",
       "        [  0., -20.,   0.],\n",
       "        [  0., -30.,   0.],\n",
       "        [  0., -40.,   0.],\n",
       "        [  0., -50.,   0.],\n",
       "        [  0.,   0., -10.],\n",
       "        [  0.,   0., -20.],\n",
       "        [  0.,   0., -30.],\n",
       "        [  0.,   0., -40.],\n",
       "        [  0.,   0., -50.],\n",
       "        [  0.,   0.,   0.],\n",
       "        [  0.,   0.,  10.],\n",
       "        [  0.,   0.,  20.],\n",
       "        [  0.,   0.,  30.],\n",
       "        [  0.,   0.,  40.],\n",
       "        [  0.,   0.,  50.],\n",
       "        [  0.,  10.,   0.],\n",
       "        [  0.,  20.,   0.],\n",
       "        [  0.,  30.,   0.],\n",
       "        [  0.,  40.,   0.],\n",
       "        [  0.,  50.,   0.],\n",
       "        [ 10.,   0.,   0.],\n",
       "        [ 20.,   0.,   0.],\n",
       "        [ 30.,   0.,   0.],\n",
       "        [ 40.,   0.,   0.],\n",
       "        [ 50.,   0.,   0.]])"
      ]
     },
     "execution_count": 72,
     "metadata": {},
     "output_type": "execute_result"
    }
   ],
   "source": [
    "test_dataset_axis[5][1] * 60"
   ]
  },
  {
   "cell_type": "code",
   "execution_count": 124,
   "metadata": {},
   "outputs": [
    {
     "name": "stdout",
     "output_type": "stream",
     "text": [
      "model-10000\n"
     ]
    },
    {
     "name": "stderr",
     "output_type": "stream",
     "text": [
      "/home/yueqi/anaconda/envs/py36/lib/python3.6/site-packages/torch/serialization.py:425: SourceChangeWarning: source code of class 'gqn.gqn.GenerativeQueryNetwork' has changed. you can retrieve the original source code by accessing the object's source attribute or set `torch.nn.Module.dump_patches = True` and use the patch tool to revert the changes.\n",
      "  warnings.warn(msg, SourceChangeWarning)\n"
     ]
    },
    {
     "name": "stdout",
     "output_type": "stream",
     "text": [
      "../output/gqn-face3d-20181111-063040/predictions_model-10000\n"
     ]
    },
    {
     "name": "stderr",
     "output_type": "stream",
     "text": [
      "/home/yueqi/anaconda/envs/py36/lib/python3.6/site-packages/torch/nn/functional.py:1006: UserWarning: nn.functional.sigmoid is deprecated. Use torch.sigmoid instead.\n",
      "  warnings.warn(\"nn.functional.sigmoid is deprecated. Use torch.sigmoid instead.\")\n",
      "/home/yueqi/anaconda/envs/py36/lib/python3.6/site-packages/torch/nn/functional.py:995: UserWarning: nn.functional.tanh is deprecated. Use torch.tanh instead.\n",
      "  warnings.warn(\"nn.functional.tanh is deprecated. Use torch.tanh instead.\")\n"
     ]
    }
   ],
   "source": [
    "model_checkpoint = \"../output/gqn-face3d-20181111-063040/checkpoints/model-10000.pt\"\n",
    "checkpoint_name = os.path.basename(model_checkpoint).split(\".\")[-2]\n",
    "print(checkpoint_name)\n",
    "model = torch.load(model_checkpoint, map_location=device)\n",
    "result_dir = os.path.join(log_dir, 'predictions_' + checkpoint_name)\n",
    "if not os.path.exists(result_dir):\n",
    "    os.mkdir(result_dir)\n",
    "print(result_dir)\n",
    "multi_context_rendering(model, test_dataset_random, 2, 5, sigma, figdir=result_dir)"
   ]
  },
  {
   "cell_type": "code",
   "execution_count": 125,
   "metadata": {},
   "outputs": [
    {
     "name": "stdout",
     "output_type": "stream",
     "text": [
      "model-20000\n"
     ]
    },
    {
     "name": "stderr",
     "output_type": "stream",
     "text": [
      "/home/yueqi/anaconda/envs/py36/lib/python3.6/site-packages/torch/serialization.py:425: SourceChangeWarning: source code of class 'gqn.gqn.GenerativeQueryNetwork' has changed. you can retrieve the original source code by accessing the object's source attribute or set `torch.nn.Module.dump_patches = True` and use the patch tool to revert the changes.\n",
      "  warnings.warn(msg, SourceChangeWarning)\n"
     ]
    },
    {
     "name": "stdout",
     "output_type": "stream",
     "text": [
      "../output/gqn-face3d-20181111-063040/predictions_model-20000\n"
     ]
    },
    {
     "name": "stderr",
     "output_type": "stream",
     "text": [
      "/home/yueqi/anaconda/envs/py36/lib/python3.6/site-packages/torch/nn/functional.py:1006: UserWarning: nn.functional.sigmoid is deprecated. Use torch.sigmoid instead.\n",
      "  warnings.warn(\"nn.functional.sigmoid is deprecated. Use torch.sigmoid instead.\")\n",
      "/home/yueqi/anaconda/envs/py36/lib/python3.6/site-packages/torch/nn/functional.py:995: UserWarning: nn.functional.tanh is deprecated. Use torch.tanh instead.\n",
      "  warnings.warn(\"nn.functional.tanh is deprecated. Use torch.tanh instead.\")\n"
     ]
    }
   ],
   "source": [
    "model_checkpoint = \"../output/gqn-face3d-20181111-063040/checkpoints/model-20000.pt\"\n",
    "checkpoint_name = os.path.basename(model_checkpoint).split(\".\")[-2]\n",
    "print(checkpoint_name)\n",
    "model = torch.load(model_checkpoint, map_location=device)\n",
    "result_dir = os.path.join(log_dir, 'predictions_' + checkpoint_name)\n",
    "if not os.path.exists(result_dir):\n",
    "    os.mkdir(result_dir)\n",
    "print(result_dir)\n",
    "multi_context_rendering(model, test_dataset_random, 2, 5, sigma, figdir=result_dir)"
   ]
  },
  {
   "cell_type": "code",
   "execution_count": 126,
   "metadata": {},
   "outputs": [
    {
     "name": "stdout",
     "output_type": "stream",
     "text": [
      "model-30000\n"
     ]
    },
    {
     "name": "stderr",
     "output_type": "stream",
     "text": [
      "/home/yueqi/anaconda/envs/py36/lib/python3.6/site-packages/torch/serialization.py:425: SourceChangeWarning: source code of class 'gqn.gqn.GenerativeQueryNetwork' has changed. you can retrieve the original source code by accessing the object's source attribute or set `torch.nn.Module.dump_patches = True` and use the patch tool to revert the changes.\n",
      "  warnings.warn(msg, SourceChangeWarning)\n"
     ]
    },
    {
     "name": "stdout",
     "output_type": "stream",
     "text": [
      "../output/gqn-face3d-20181111-063040/predictions_model-30000\n"
     ]
    },
    {
     "name": "stderr",
     "output_type": "stream",
     "text": [
      "/home/yueqi/anaconda/envs/py36/lib/python3.6/site-packages/torch/nn/functional.py:1006: UserWarning: nn.functional.sigmoid is deprecated. Use torch.sigmoid instead.\n",
      "  warnings.warn(\"nn.functional.sigmoid is deprecated. Use torch.sigmoid instead.\")\n",
      "/home/yueqi/anaconda/envs/py36/lib/python3.6/site-packages/torch/nn/functional.py:995: UserWarning: nn.functional.tanh is deprecated. Use torch.tanh instead.\n",
      "  warnings.warn(\"nn.functional.tanh is deprecated. Use torch.tanh instead.\")\n"
     ]
    }
   ],
   "source": [
    "model_checkpoint = \"../output/gqn-face3d-20181111-063040/checkpoints/model-30000.pt\"\n",
    "checkpoint_name = os.path.basename(model_checkpoint).split(\".\")[-2]\n",
    "print(checkpoint_name)\n",
    "model = torch.load(model_checkpoint, map_location=device)\n",
    "result_dir = os.path.join(log_dir, 'predictions_' + checkpoint_name)\n",
    "if not os.path.exists(result_dir):\n",
    "    os.mkdir(result_dir)\n",
    "print(result_dir)\n",
    "multi_context_rendering(model, test_dataset_random, 2, 5, sigma, figdir=result_dir)"
   ]
  },
  {
   "cell_type": "code",
   "execution_count": 127,
   "metadata": {},
   "outputs": [
    {
     "name": "stdout",
     "output_type": "stream",
     "text": [
      "model-40000\n"
     ]
    },
    {
     "name": "stderr",
     "output_type": "stream",
     "text": [
      "/home/yueqi/anaconda/envs/py36/lib/python3.6/site-packages/torch/serialization.py:425: SourceChangeWarning: source code of class 'gqn.gqn.GenerativeQueryNetwork' has changed. you can retrieve the original source code by accessing the object's source attribute or set `torch.nn.Module.dump_patches = True` and use the patch tool to revert the changes.\n",
      "  warnings.warn(msg, SourceChangeWarning)\n"
     ]
    },
    {
     "name": "stdout",
     "output_type": "stream",
     "text": [
      "../output/gqn-face3d-20181111-063040/predictions_model-40000\n"
     ]
    },
    {
     "name": "stderr",
     "output_type": "stream",
     "text": [
      "/home/yueqi/anaconda/envs/py36/lib/python3.6/site-packages/torch/nn/functional.py:1006: UserWarning: nn.functional.sigmoid is deprecated. Use torch.sigmoid instead.\n",
      "  warnings.warn(\"nn.functional.sigmoid is deprecated. Use torch.sigmoid instead.\")\n",
      "/home/yueqi/anaconda/envs/py36/lib/python3.6/site-packages/torch/nn/functional.py:995: UserWarning: nn.functional.tanh is deprecated. Use torch.tanh instead.\n",
      "  warnings.warn(\"nn.functional.tanh is deprecated. Use torch.tanh instead.\")\n"
     ]
    }
   ],
   "source": [
    "model_checkpoint = \"../output/gqn-face3d-20181111-063040/checkpoints/model-40000.pt\"\n",
    "checkpoint_name = os.path.basename(model_checkpoint).split(\".\")[-2]\n",
    "print(checkpoint_name)\n",
    "model = torch.load(model_checkpoint, map_location=device)\n",
    "result_dir = os.path.join(log_dir, 'predictions_' + checkpoint_name)\n",
    "if not os.path.exists(result_dir):\n",
    "    os.mkdir(result_dir)\n",
    "print(result_dir)\n",
    "multi_context_rendering(model, test_dataset_random, 2, 5, sigma, figdir=result_dir)"
   ]
  },
  {
   "cell_type": "code",
   "execution_count": 128,
   "metadata": {},
   "outputs": [
    {
     "name": "stdout",
     "output_type": "stream",
     "text": [
      "model-50000\n"
     ]
    },
    {
     "name": "stderr",
     "output_type": "stream",
     "text": [
      "/home/yueqi/anaconda/envs/py36/lib/python3.6/site-packages/torch/serialization.py:425: SourceChangeWarning: source code of class 'gqn.gqn.GenerativeQueryNetwork' has changed. you can retrieve the original source code by accessing the object's source attribute or set `torch.nn.Module.dump_patches = True` and use the patch tool to revert the changes.\n",
      "  warnings.warn(msg, SourceChangeWarning)\n"
     ]
    },
    {
     "name": "stdout",
     "output_type": "stream",
     "text": [
      "../output/gqn-face3d-20181111-063040/predictions_model-50000\n"
     ]
    },
    {
     "name": "stderr",
     "output_type": "stream",
     "text": [
      "/home/yueqi/anaconda/envs/py36/lib/python3.6/site-packages/torch/nn/functional.py:1006: UserWarning: nn.functional.sigmoid is deprecated. Use torch.sigmoid instead.\n",
      "  warnings.warn(\"nn.functional.sigmoid is deprecated. Use torch.sigmoid instead.\")\n",
      "/home/yueqi/anaconda/envs/py36/lib/python3.6/site-packages/torch/nn/functional.py:995: UserWarning: nn.functional.tanh is deprecated. Use torch.tanh instead.\n",
      "  warnings.warn(\"nn.functional.tanh is deprecated. Use torch.tanh instead.\")\n"
     ]
    }
   ],
   "source": [
    "model_checkpoint = \"../output/gqn-face3d-20181111-063040/checkpoints/model-50000.pt\"\n",
    "checkpoint_name = os.path.basename(model_checkpoint).split(\".\")[-2]\n",
    "print(checkpoint_name)\n",
    "model = torch.load(model_checkpoint, map_location=device)\n",
    "result_dir = os.path.join(log_dir, 'predictions_' + checkpoint_name)\n",
    "if not os.path.exists(result_dir):\n",
    "    os.mkdir(result_dir)\n",
    "print(result_dir)\n",
    "multi_context_rendering(model, test_dataset_random, 2, 5, sigma, figdir=result_dir)"
   ]
  },
  {
   "cell_type": "code",
   "execution_count": 129,
   "metadata": {},
   "outputs": [
    {
     "name": "stdout",
     "output_type": "stream",
     "text": [
      "model-60000\n",
      "../output/gqn-face3d-20181111-063040/predictions_model-60000\n"
     ]
    },
    {
     "name": "stderr",
     "output_type": "stream",
     "text": [
      "/home/yueqi/anaconda/envs/py36/lib/python3.6/site-packages/torch/nn/functional.py:1006: UserWarning: nn.functional.sigmoid is deprecated. Use torch.sigmoid instead.\n",
      "  warnings.warn(\"nn.functional.sigmoid is deprecated. Use torch.sigmoid instead.\")\n",
      "/home/yueqi/anaconda/envs/py36/lib/python3.6/site-packages/torch/nn/functional.py:995: UserWarning: nn.functional.tanh is deprecated. Use torch.tanh instead.\n",
      "  warnings.warn(\"nn.functional.tanh is deprecated. Use torch.tanh instead.\")\n"
     ]
    }
   ],
   "source": [
    "model_checkpoint = \"../output/gqn-face3d-20181111-063040/checkpoints/model-60000.pt\"\n",
    "checkpoint_name = os.path.basename(model_checkpoint).split(\".\")[-2]\n",
    "print(checkpoint_name)\n",
    "model = torch.load(model_checkpoint, map_location=device)\n",
    "result_dir = os.path.join(log_dir, 'predictions_' + checkpoint_name)\n",
    "if not os.path.exists(result_dir):\n",
    "    os.mkdir(result_dir)\n",
    "print(result_dir)\n",
    "multi_context_rendering(model, test_dataset_random, 2, 5, sigma, figdir=result_dir)"
   ]
  },
  {
   "cell_type": "code",
   "execution_count": null,
   "metadata": {},
   "outputs": [],
   "source": []
  },
  {
   "cell_type": "code",
   "execution_count": 96,
   "metadata": {},
   "outputs": [],
   "source": [
    "data = pd.read_csv(\"../output/gqn-face3d-20181111-063040/log.txt\")"
   ]
  },
  {
   "cell_type": "code",
   "execution_count": 97,
   "metadata": {},
   "outputs": [
    {
     "data": {
      "text/html": [
       "<div>\n",
       "<style scoped>\n",
       "    .dataframe tbody tr th:only-of-type {\n",
       "        vertical-align: middle;\n",
       "    }\n",
       "\n",
       "    .dataframe tbody tr th {\n",
       "        vertical-align: top;\n",
       "    }\n",
       "\n",
       "    .dataframe thead th {\n",
       "        text-align: right;\n",
       "    }\n",
       "</style>\n",
       "<table border=\"1\" class=\"dataframe\">\n",
       "  <thead>\n",
       "    <tr style=\"text-align: right;\">\n",
       "      <th></th>\n",
       "      <th>step</th>\n",
       "      <th>nll</th>\n",
       "      <th>kl</th>\n",
       "      <th>-elbo</th>\n",
       "    </tr>\n",
       "  </thead>\n",
       "  <tbody>\n",
       "    <tr>\n",
       "      <th>0</th>\n",
       "      <td>10</td>\n",
       "      <td>9264.306641</td>\n",
       "      <td>197.357056</td>\n",
       "      <td>9461.663696</td>\n",
       "    </tr>\n",
       "    <tr>\n",
       "      <th>1</th>\n",
       "      <td>20</td>\n",
       "      <td>8980.582031</td>\n",
       "      <td>135.098877</td>\n",
       "      <td>9115.680908</td>\n",
       "    </tr>\n",
       "    <tr>\n",
       "      <th>2</th>\n",
       "      <td>30</td>\n",
       "      <td>8607.216797</td>\n",
       "      <td>129.697617</td>\n",
       "      <td>8736.914413</td>\n",
       "    </tr>\n",
       "    <tr>\n",
       "      <th>3</th>\n",
       "      <td>40</td>\n",
       "      <td>7967.689453</td>\n",
       "      <td>180.011261</td>\n",
       "      <td>8147.700714</td>\n",
       "    </tr>\n",
       "    <tr>\n",
       "      <th>4</th>\n",
       "      <td>50</td>\n",
       "      <td>7920.892090</td>\n",
       "      <td>246.911240</td>\n",
       "      <td>8167.803329</td>\n",
       "    </tr>\n",
       "  </tbody>\n",
       "</table>\n",
       "</div>"
      ],
      "text/plain": [
       "   step          nll          kl        -elbo\n",
       "0    10  9264.306641  197.357056  9461.663696\n",
       "1    20  8980.582031  135.098877  9115.680908\n",
       "2    30  8607.216797  129.697617  8736.914413\n",
       "3    40  7967.689453  180.011261  8147.700714\n",
       "4    50  7920.892090  246.911240  8167.803329"
      ]
     },
     "execution_count": 97,
     "metadata": {},
     "output_type": "execute_result"
    }
   ],
   "source": [
    "data.columns = [x.strip() for x in data.columns]\n",
    "data['-elbo'] = data['nll'] + data['kl']\n",
    "data.head()"
   ]
  },
  {
   "cell_type": "code",
   "execution_count": 123,
   "metadata": {},
   "outputs": [
    {
     "data": {
      "image/png": "[encoded data removed]",
      "text/plain": [
       "<Figure size 576x360 with 1 Axes>"
      ]
     },
     "metadata": {},
     "output_type": "display_data"
    }
   ],
   "source": [
    "fig, ax = plt.subplots(1,1,figsize=(8,5))\n",
    "ax.plot(data.step, data['-elbo'])\n",
    "ax.set_title(\"Training curve as -ELBO\", fontsize=22)\n",
    "ax.set_ylabel(\"--ELBO\", fontsize=16)\n",
    "ax.set_xlabel(\"gradient steps\", fontsize=16)\n",
    "fig.savefig(os.path.join(log_dir, 'elbo_curve.png'))"
   ]
  },
  {
   "cell_type": "code",
   "execution_count": null,
   "metadata": {},
   "outputs": [],
   "source": []
  }
 ],
 "metadata": {
  "kernelspec": {
   "display_name": "Python [conda env:py36]",
   "language": "python",
   "name": "conda-env-py36-py"
  },
  "language_info": {
   "codemirror_mode": {
    "name": "ipython",
    "version": 3
   },
   "file_extension": ".py",
   "mimetype": "text/x-python",
   "name": "python",
   "nbconvert_exporter": "python",
   "pygments_lexer": "ipython3",
   "version": "3.6.6"
  }
 },
 "nbformat": 4,
 "nbformat_minor": 2
}
