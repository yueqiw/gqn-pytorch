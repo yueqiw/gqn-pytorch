{
 "cells": [
  {
   "cell_type": "code",
   "execution_count": 72,
   "metadata": {},
   "outputs": [
    {
     "name": "stdout",
     "output_type": "stream",
     "text": [
      "The autoreload extension is already loaded. To reload it, use:\n",
      "  %reload_ext autoreload\n"
     ]
    }
   ],
   "source": [
    "import sys, os\n",
    "import random\n",
    "import math\n",
    "import argparse\n",
    "from tqdm import tqdm\n",
    "from datetime import datetime \n",
    "\n",
    "import numpy as np\n",
    "import pandas as pd\n",
    "import matplotlib.pyplot as plt\n",
    "\n",
    "import torch\n",
    "import torch.nn as nn\n",
    "from torch.distributions import Normal\n",
    "from torch.utils.data import DataLoader\n",
    "from torchvision.utils import save_image\n",
    "\n",
    "sys.path.append(\"../gqn-wohlert\")\n",
    "sys.path.append(\"../src\")\n",
    "from gqn import GenerativeQueryNetwork\n",
    "from datasets import *\n",
    "from utils import * \n",
    "import gc\n",
    "\n",
    "# cuda = torch.cuda.is_available()\n",
    "cuda = False\n",
    "device = torch.device(\"cuda:0\" if cuda else \"cpu\")\n",
    "device\n",
    "\n",
    "%load_ext autoreload\n",
    "%autoreload 2"
   ]
  },
  {
   "cell_type": "code",
   "execution_count": 7,
   "metadata": {},
   "outputs": [],
   "source": [
    "n_actions = {\n",
    "    'PushBlockCamera': 6,\n",
    "    'HallwayCamera': 4,\n",
    "    'PyramidsCamera': 4 \n",
    "}\n",
    "n_steps = 10"
   ]
  },
  {
   "cell_type": "code",
   "execution_count": 8,
   "metadata": {},
   "outputs": [],
   "source": [
    "pyramids_data_dir = \"/home/yueqi/Dropbox/data_large/gqn_dataset/PyramidsCamera2/test/\"\n",
    "pushblock_data_dir = \"/home/yueqi/Dropbox/data_large/gqn_dataset/PushBlockCamera2/test\""
   ]
  },
  {
   "cell_type": "code",
   "execution_count": 9,
   "metadata": {},
   "outputs": [],
   "source": [
    "pyramids_dataset = AgentScenesUnity(root_dir=pyramids_data_dir, \n",
    "                    n_actions=n_actions['PyramidsCamera'], \n",
    "                    n_timesteps=n_steps) "
   ]
  },
  {
   "cell_type": "code",
   "execution_count": 11,
   "metadata": {},
   "outputs": [],
   "source": [
    "# Pixel variance\n",
    "sigma_f, sigma_i = 0.7, 2.0\n",
    "# Learning rate\n",
    "mu_f, mu_i = 5*10**(-5), 5*10**(-4)\n",
    "mu, sigma = mu_f, sigma_f"
   ]
  },
  {
   "cell_type": "code",
   "execution_count": null,
   "metadata": {},
   "outputs": [],
   "source": []
  },
  {
   "cell_type": "code",
   "execution_count": 86,
   "metadata": {},
   "outputs": [
    {
     "name": "stdout",
     "output_type": "stream",
     "text": [
      "model-14500\n"
     ]
    }
   ],
   "source": [
    "model_checkpoint = \"../output_remote/output/gqn-PyramidsCamera-20181203-050310/checkpoints/model-14500.pt\"\n",
    "checkpoint_name = os.path.basename(model_checkpoint).split(\".\")[-2]\n",
    "print(checkpoint_name)"
   ]
  },
  {
   "cell_type": "code",
   "execution_count": 87,
   "metadata": {},
   "outputs": [
    {
     "name": "stderr",
     "output_type": "stream",
     "text": [
      "/home/yueqi/anaconda/envs/py36/lib/python3.6/site-packages/torch/serialization.py:425: SourceChangeWarning: source code of class 'torch.nn.modules.conv.Conv2d' has changed. you can retrieve the original source code by accessing the object's source attribute or set `torch.nn.Module.dump_patches = True` and use the patch tool to revert the changes.\n",
      "  warnings.warn(msg, SourceChangeWarning)\n",
      "/home/yueqi/anaconda/envs/py36/lib/python3.6/site-packages/torch/serialization.py:425: SourceChangeWarning: source code of class 'torch.nn.modules.conv.ConvTranspose2d' has changed. you can retrieve the original source code by accessing the object's source attribute or set `torch.nn.Module.dump_patches = True` and use the patch tool to revert the changes.\n",
      "  warnings.warn(msg, SourceChangeWarning)\n",
      "/home/yueqi/anaconda/envs/py36/lib/python3.6/site-packages/torch/serialization.py:425: SourceChangeWarning: source code of class 'torch.nn.modules.pooling.AvgPool2d' has changed. you can retrieve the original source code by accessing the object's source attribute or set `torch.nn.Module.dump_patches = True` and use the patch tool to revert the changes.\n",
      "  warnings.warn(msg, SourceChangeWarning)\n"
     ]
    }
   ],
   "source": [
    "model = torch.load(model_checkpoint, map_location=device)"
   ]
  },
  {
   "cell_type": "code",
   "execution_count": 88,
   "metadata": {},
   "outputs": [
    {
     "data": {
      "text/plain": [
       "'../output_remote/output/gqn-PyramidsCamera-20181203-050310'"
      ]
     },
     "execution_count": 88,
     "metadata": {},
     "output_type": "execute_result"
    }
   ],
   "source": [
    "log_dir = os.path.dirname(os.path.dirname(model_checkpoint))\n",
    "log_dir"
   ]
  },
  {
   "cell_type": "code",
   "execution_count": 89,
   "metadata": {},
   "outputs": [
    {
     "name": "stdout",
     "output_type": "stream",
     "text": [
      "../output_remote/output/gqn-PyramidsCamera-20181203-050310/predictions_model-14500\n"
     ]
    }
   ],
   "source": [
    "result_dir = os.path.join(log_dir, 'predictions_' + checkpoint_name)\n",
    "if not os.path.exists(result_dir):\n",
    "    os.mkdir(result_dir)\n",
    "print(result_dir)"
   ]
  },
  {
   "cell_type": "code",
   "execution_count": 92,
   "metadata": {},
   "outputs": [
    {
     "name": "stdout",
     "output_type": "stream",
     "text": [
      "torch.Size([1, 9, 3, 64, 64])\n",
      "torch.Size([1, 9, 6])\n"
     ]
    },
    {
     "name": "stderr",
     "output_type": "stream",
     "text": [
      "/home/yueqi/anaconda/envs/py36/lib/python3.6/site-packages/torch/nn/functional.py:1313: UserWarning: nn.functional.sigmoid is deprecated. Use torch.sigmoid instead.\n",
      "  warnings.warn(\"nn.functional.sigmoid is deprecated. Use torch.sigmoid instead.\")\n",
      "/home/yueqi/anaconda/envs/py36/lib/python3.6/site-packages/torch/nn/functional.py:1301: UserWarning: nn.functional.tanh is deprecated. Use torch.tanh instead.\n",
      "  warnings.warn(\"nn.functional.tanh is deprecated. Use torch.tanh instead.\")\n"
     ]
    }
   ],
   "source": [
    "render_next_action(model, pyramids_dataset, 10, 10, figdir=result_dir)"
   ]
  },
  {
   "cell_type": "code",
   "execution_count": 96,
   "metadata": {},
   "outputs": [
    {
     "name": "stderr",
     "output_type": "stream",
     "text": [
      "/home/yueqi/anaconda/envs/py36/lib/python3.6/site-packages/torch/nn/functional.py:1313: UserWarning: nn.functional.sigmoid is deprecated. Use torch.sigmoid instead.\n",
      "  warnings.warn(\"nn.functional.sigmoid is deprecated. Use torch.sigmoid instead.\")\n",
      "/home/yueqi/anaconda/envs/py36/lib/python3.6/site-packages/torch/nn/functional.py:1301: UserWarning: nn.functional.tanh is deprecated. Use torch.tanh instead.\n",
      "  warnings.warn(\"nn.functional.tanh is deprecated. Use torch.tanh instead.\")\n"
     ]
    }
   ],
   "source": [
    "for i in range(50,70):\n",
    "    render_next_action(model, pyramids_dataset, i, 5, figdir=result_dir)"
   ]
  },
  {
   "cell_type": "code",
   "execution_count": null,
   "metadata": {},
   "outputs": [],
   "source": []
  }
 ],
 "metadata": {
  "kernelspec": {
   "display_name": "Python [conda env:py36]",
   "language": "python",
   "name": "conda-env-py36-py"
  },
  "language_info": {
   "codemirror_mode": {
    "name": "ipython",
    "version": 3
   },
   "file_extension": ".py",
   "mimetype": "text/x-python",
   "name": "python",
   "nbconvert_exporter": "python",
   "pygments_lexer": "ipython3",
   "version": "3.6.6"
  }
 },
 "nbformat": 4,
 "nbformat_minor": 2
}
